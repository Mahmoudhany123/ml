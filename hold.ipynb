{
 "cells": [
  {
   "cell_type": "code",
   "execution_count": 13,
   "id": "a4ec355d",
   "metadata": {},
   "outputs": [
    {
     "name": "stdout",
     "output_type": "stream",
     "text": [
      "(909, 24)\n",
      "<bound method NDFrame.head of      Unnamed: 0  Unnamed: 0.1     X  meanfreq        sd    median       Q25  \\\n",
      "0             0             1     1  0.181338  0.060495  0.187476  0.126197   \n",
      "1             1             2     2  0.186897  0.062260  0.195070  0.130847   \n",
      "2             2             3     3  0.189102  0.062901  0.204945  0.131422   \n",
      "3             4             5     5  0.183036  0.060051  0.174115  0.129949   \n",
      "4             5             6     6  0.168793  0.057910  0.156266  0.116783   \n",
      "..          ...           ...   ...       ...       ...       ...       ...   \n",
      "904        1243          1244  1436  0.244013  0.035477  0.254385  0.229653   \n",
      "905        1244          1245  1437  0.235383  0.045303  0.248974  0.220745   \n",
      "906        1245          1246  1438  0.231211  0.044793  0.234847  0.221477   \n",
      "907        1246          1247  1439  0.213587  0.082267  0.249435  0.207680   \n",
      "908        1247          1248  1440  0.212537  0.078746  0.245034  0.209794   \n",
      "\n",
      "          Q75       IQR      skew  ...  centroid   meanfun    minfun  \\\n",
      "0    0.233586  0.107389  0.869088  ...  0.181338  0.137742  0.023022   \n",
      "1    0.243987  0.113140  1.191767  ...  0.186897  0.121811  0.018412   \n",
      "2    0.249978  0.118556  1.312690  ...  0.189102  0.123758  0.083333   \n",
      "3    0.236967  0.107017  1.096409  ...  0.183036  0.128469  0.044693   \n",
      "4    0.216326  0.099543  1.386837  ...  0.168793  0.109720  0.022472   \n",
      "..        ...       ...       ...  ...       ...       ...       ...   \n",
      "904  0.265573  0.035920  2.214752  ...  0.244013  0.202433  0.028829   \n",
      "905  0.264233  0.043488  2.474743  ...  0.235383  0.189293  0.031250   \n",
      "906  0.262090  0.040613  2.607668  ...  0.231211  0.171805  0.022346   \n",
      "907  0.268538  0.060858  3.460579  ...  0.213587  0.155277  0.020592   \n",
      "908  0.264031  0.054238  2.563983  ...  0.212537  0.162938  0.024845   \n",
      "\n",
      "       maxfun   meandom    mindom    maxdom   dfrange   modindx  label  \n",
      "0    0.271186  0.777344  0.085938  6.226562  6.140625  0.116586    sad  \n",
      "1    0.271186  0.930339  0.085938  4.000000  3.914062  0.144983    sad  \n",
      "2    0.262295  0.332386  0.085938  0.625000  0.539062  0.334783    sad  \n",
      "3    0.258065  1.012019  0.085938  5.468750  5.382812  0.304910    sad  \n",
      "4    0.235294  0.228795  0.093750  0.750000  0.656250  0.306777    sad  \n",
      "..        ...       ...       ...       ...       ...       ...    ...  \n",
      "904  0.271186  0.616536  0.210938  1.609375  1.398438  0.281869  happy  \n",
      "905  0.275862  1.115723  0.265625  5.500000  5.234375  0.167861  happy  \n",
      "906  0.275862  1.070801  0.265625  4.554688  4.289062  0.214936  happy  \n",
      "907  0.275862  1.724888  0.273438  6.812500  6.539062  0.238857  happy  \n",
      "908  0.258065  0.915625  0.000000  6.281250  6.281250  0.193141  happy  \n",
      "\n",
      "[909 rows x 24 columns]>\n",
      "count     909\n",
      "unique      3\n",
      "top       sad\n",
      "freq      314\n",
      "Name: label, dtype: object\n",
      "2\n",
      "confusion matrix [[48 19 28]\n",
      " [27 55 20]\n",
      " [17 14 45]]\n",
      " Accurcy 0.5421245421245421\n",
      "preciction 0.5421245421245421\n",
      "f1 score 0.5421245421245421\n",
      "recall 0.5421245421245421\n"
     ]
    }
   ],
   "source": [
    "#test split using RandomForestClassifier \n",
    "import pandas as pd \n",
    "data = pd.read_csv('cleaned_emotion.csv')\n",
    "print(data.shape) \n",
    "print(data.head) \n",
    "x=data.drop(\"label\",axis=1) \n",
    "y=data['label'] \n",
    "from sklearn.model_selection import train_test_split \n",
    "x_train,x_test,y_train,y_test=train_test_split(x,y,test_size=0.3) \n",
    "print(data['label'].describe()) \n",
    "print(data.ndim) \n",
    "from sklearn.ensemble import RandomForestClassifier \n",
    "rf = RandomForestClassifier(n_estimators = 10) \n",
    "rf.fit(x_train,y_train) \n",
    "y_pred=rf.predict(x_test) \n",
    "from sklearn.metrics import confusion_matrix \n",
    "conf=confusion_matrix(y_pred,y_test) \n",
    "from sklearn import metrics \n",
    "print('confusion matrix',conf) \n",
    "print(' Accurcy',metrics.accuracy_score(y_pred,y_test)) \n",
    "print('preciction',metrics.precision_score(y_pred,y_test , average='micro')) \n",
    "print('f1 score',metrics.f1_score(y_pred,y_test, average='micro')) \n",
    "print('recall',metrics.recall_score(y_pred,y_test , average='micro'))"
   ]
  },
  {
   "cell_type": "code",
   "execution_count": null,
   "id": "fbe27a80",
   "metadata": {},
   "outputs": [],
   "source": []
  },
  {
   "cell_type": "code",
   "execution_count": null,
   "id": "91315e18",
   "metadata": {},
   "outputs": [],
   "source": []
  }
 ],
 "metadata": {
  "kernelspec": {
   "display_name": "Python 3 (ipykernel)",
   "language": "python",
   "name": "python3"
  },
  "language_info": {
   "codemirror_mode": {
    "name": "ipython",
    "version": 3
   },
   "file_extension": ".py",
   "mimetype": "text/x-python",
   "name": "python",
   "nbconvert_exporter": "python",
   "pygments_lexer": "ipython3",
   "version": "3.9.7"
  }
 },
 "nbformat": 4,
 "nbformat_minor": 5
}
